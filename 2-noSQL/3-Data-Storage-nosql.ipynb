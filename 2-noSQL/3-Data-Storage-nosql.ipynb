{
 "cells": [
  {
   "cell_type": "markdown",
   "metadata": {
    "id": "J7-WgqsNrF4r"
   },
   "source": [
    "# Task 1: Create an account and getting familiar with MongoDB\n",
    "\n",
    "## 1.1 - Setup an MongoDB ATLAS account\n",
    "Follow the instructions from here: https://docs.google.com/document/d/1Puyz0RLfEqiCRl-ZaKdtKloEqVsN8GKdMuraKn1ZdoI/edit?usp=sharing \n",
    "\n",
    "\n",
    "## 1.2 - MongoDB concepts compared to Relational DB concepts\n",
    "In MongoDB, a **database** is the container for collections. A single **collection**  is the container for documents. **Documents** are usually key/value pairs but it can include arrays and subdocuments. It can support different data types. More information here: https://docs.mongodb.com/manual/reference/bson-types/. \n",
    "\n",
    "| Relational DB  | MongoDB  |\n",
    "|---|---|\n",
    "|  Database | Database  |  \n",
    "| Tables  |  Collections |\n",
    "| Rows  | Documents  |\n",
    "| Index  |  Index |\n",
    " \t\n",
    "\n",
    "\n",
    "## 1.3 Document structure\n",
    "You can find more information about MongoDB document structure https://docs.mongodb.com/manual/core/document/. If you are not familiar with JSON and BSON specifications, you might wish to read about them here:\n",
    "- JSON: https://www.json.org/json-en.html\n",
    "- BSON: http://bsonspec.org\n",
    "\n"
   ]
  },
  {
   "cell_type": "markdown",
   "metadata": {
    "id": "NwYGltl9LBXL"
   },
   "source": [
    "# Task 2: Query a dataset\n",
    "\n",
    "We need `pymongo`, `dnspython` and `python==3.6`"
   ]
  },
  {
   "cell_type": "code",
   "execution_count": 1,
   "metadata": {
    "colab": {
     "base_uri": "https://localhost:8080/"
    },
    "id": "CPZgIJVNJY7c",
    "outputId": "32e24838-4ed2-4eff-fb89-e65a36236e76"
   },
   "outputs": [
    {
     "name": "stdout",
     "output_type": "stream",
     "text": [
      "Collecting pymongo\n",
      "  Downloading pymongo-3.12.1-cp37-cp37m-win_amd64.whl (397 kB)\n",
      "Installing collected packages: pymongo\n",
      "Successfully installed pymongo-3.12.1\n",
      "Collecting dnspython\n",
      "  Downloading dnspython-2.1.0-py3-none-any.whl (241 kB)\n",
      "Installing collected packages: dnspython\n",
      "Successfully installed dnspython-2.1.0\n"
     ]
    }
   ],
   "source": [
    "# install missing library\n",
    "!pip install pymongo\n",
    "!pip install dnspython"
   ]
  },
  {
   "cell_type": "markdown",
   "metadata": {
    "id": "eteAo2GFgyj1"
   },
   "source": [
    "If you use Google's collab, you now have to select `Runtime -> Restart runtime` or `Ctrl+M`.\n"
   ]
  },
  {
   "cell_type": "code",
   "execution_count": 2,
   "metadata": {
    "cellView": "form",
    "id": "LmlIorJ9An-P"
   },
   "outputs": [],
   "source": [
    "#@title Imports\n",
    "import pymongo\n",
    "from pprint import pprint\n",
    "from random import randint"
   ]
  },
  {
   "cell_type": "markdown",
   "metadata": {
    "id": "-u3HJH_9LmAE"
   },
   "source": [
    "## 2.1 - Establish a connection to MongoDB\n",
    "\n",
    "- **_[TO DO]_** : Connect to MongoDB using the MongoClient class from PyMongo library.\n",
    "\n",
    "\n"
   ]
  },
  {
   "cell_type": "code",
   "execution_count": 14,
   "metadata": {
    "id": "fo-Z1QJtAvin"
   },
   "outputs": [],
   "source": [
    "###########################\n",
    "# Task: \n",
    "#   use MongoClient class to connect to MongoDB\n",
    "#\n",
    "###########################\n",
    "host='mongodb+srv://Dijia:<123>@cluster0.xbh2z.mongodb.net/myFirstDatabase?retryWrites=true&w=majority'\n",
    "username='Dijia'\n",
    "password='123'\n",
    "client = pymongo.MongoClient(host=host, username=username, password=password)\n",
    "db=client.admin\n",
    "\n",
    "\n",
    "#########\n"
   ]
  },
  {
   "cell_type": "markdown",
   "metadata": {
    "id": "q0cxB6e3Z2Pz"
   },
   "source": [
    "Let's check whether everything works properly by retrieving the server status and printing the results, as follows:"
   ]
  },
  {
   "cell_type": "code",
   "execution_count": 15,
   "metadata": {
    "colab": {
     "base_uri": "https://localhost:8080/"
    },
    "id": "5m0B-AeUaBjP",
    "outputId": "01379b37-145a-4ddc-e25f-b42c81c60c54"
   },
   "outputs": [
    {
     "name": "stdout",
     "output_type": "stream",
     "text": [
      "{'$clusterTime': {'clusterTime': Timestamp(1635805539, 1),\n",
      "                  'signature': {'hash': b'\\x84s\\x1d\\x08\\x8612\\xc3&\\x11\\xae*'\n",
      "                                        b'\\xca\\x0f\\tEJ\\xfb\\x17\\xc2',\n",
      "                                'keyId': 6985604577110261768}},\n",
      " 'asserts': {'msg': 0, 'regular': 0, 'rollovers': 0, 'user': 0, 'warning': 0},\n",
      " 'atlasVersion': {'gitVersion': '438fb41196e737d1aedcff6aac76f3e7895653ac',\n",
      "                  'version': '20211027.0.0.1634935068'},\n",
      " 'connections': {'available': 494, 'current': 6, 'totalCreated': 10},\n",
      " 'extra_info': {'note': 'fields vary by platform', 'page_faults': 0},\n",
      " 'host': 'cluster0-shard-00-01.xbh2z.mongodb.net:27017',\n",
      " 'localTime': datetime.datetime(2021, 11, 1, 22, 25, 39, 315000),\n",
      " 'mem': {'bits': 64,\n",
      "         'mapped': 0,\n",
      "         'mappedWithJournal': 0,\n",
      "         'resident': 0,\n",
      "         'supported': True,\n",
      "         'virtual': 0},\n",
      " 'metrics': {'aggStageCounters': {'search': 0, 'searchBeta': 0},\n",
      "             'atlas': {'connectionPool': {'totalCreated': 7256}}},\n",
      " 'network': {'bytesIn': 7533, 'bytesOut': 21596, 'numRequests': 32},\n",
      " 'ok': 1.0,\n",
      " 'opLatencies': {'commands': {'latency': 12419, 'ops': 29},\n",
      "                 'reads': {'latency': 0, 'ops': 0},\n",
      "                 'writes': {'latency': 0, 'ops': 0}},\n",
      " 'opcounters': {'command': 32,\n",
      "                'delete': 0,\n",
      "                'getmore': 0,\n",
      "                'insert': 0,\n",
      "                'query': 0,\n",
      "                'update': 0},\n",
      " 'opcountersRepl': {'command': 0,\n",
      "                    'delete': 0,\n",
      "                    'getmore': 0,\n",
      "                    'insert': 0,\n",
      "                    'query': 0,\n",
      "                    'update': 0},\n",
      " 'operationTime': Timestamp(1635805539, 1),\n",
      " 'pid': 143330,\n",
      " 'process': 'mongod',\n",
      " 'repl': {'electionId': ObjectId('7fffffff0000000000000043'),\n",
      "          'hosts': ['cluster0-shard-00-00.xbh2z.mongodb.net:27017',\n",
      "                    'cluster0-shard-00-01.xbh2z.mongodb.net:27017',\n",
      "                    'cluster0-shard-00-02.xbh2z.mongodb.net:27017'],\n",
      "          'ismaster': True,\n",
      "          'lastWrite': {'lastWriteDate': datetime.datetime(2021, 11, 1, 22, 25, 39),\n",
      "                        'majorityOpTime': {'t': 67,\n",
      "                                           'ts': Timestamp(1635805539, 1)},\n",
      "                        'majorityWriteDate': datetime.datetime(2021, 11, 1, 22, 25, 39),\n",
      "                        'opTime': {'t': 67, 'ts': Timestamp(1635805539, 1)}},\n",
      "          'me': 'cluster0-shard-00-01.xbh2z.mongodb.net:27017',\n",
      "          'primary': 'cluster0-shard-00-01.xbh2z.mongodb.net:27017',\n",
      "          'rbid': 1,\n",
      "          'secondary': False,\n",
      "          'setName': 'atlas-whyvuf-shard-0',\n",
      "          'setVersion': 6,\n",
      "          'tags': {'nodeType': 'ELECTABLE',\n",
      "                   'provider': 'AWS',\n",
      "                   'region': 'EU_WEST_1',\n",
      "                   'workloadType': 'OPERATIONAL'},\n",
      "          'topologyVersion': {'counter': 6,\n",
      "                              'processId': ObjectId('616f16b5aefa36bef7628d3f')}},\n",
      " 'storageEngine': {'backupCursorOpen': False,\n",
      "                   'dropPendingIdents': 0,\n",
      "                   'name': 'wiredTiger',\n",
      "                   'oldestRequiredTimestampForCrashRecovery': Timestamp(1635805521, 7),\n",
      "                   'persistent': True,\n",
      "                   'readOnly': False,\n",
      "                   'supportsCommittedReads': True,\n",
      "                   'supportsPendingDrops': True,\n",
      "                   'supportsSnapshotReadConcern': True,\n",
      "                   'supportsTwoPhaseIndexBuild': True},\n",
      " 'uptime': 1135278.0,\n",
      " 'uptimeEstimate': 1135278,\n",
      " 'uptimeMillis': 1135278152,\n",
      " 'version': '4.4.10'}\n"
     ]
    }
   ],
   "source": [
    "serverStatusResult=db.command(\"serverStatus\")\n",
    "pprint(serverStatusResult)"
   ]
  },
  {
   "cell_type": "markdown",
   "metadata": {
    "id": "VBV1hCxNMItl"
   },
   "source": [
    "\n",
    "## 2.2 - Create sample data\n",
    "\n",
    "Let's create our synthetic dataset with students, their mark (scaled from 1-10) and the reviewer on DAPS 2020.\n"
   ]
  },
  {
   "cell_type": "code",
   "execution_count": 16,
   "metadata": {
    "colab": {
     "base_uri": "https://localhost:8080/"
    },
    "id": "jfoG5Yema9jx",
    "outputId": "a76f4637-9f38-438c-ec58-ef46eb8e6178"
   },
   "outputs": [
    {
     "name": "stdout",
     "output_type": "stream",
     "text": [
      "[{'name': 'Mike Roberts', 'DAPS_assignment': 1, 'reviewer': 'Laura'}, {'name': 'Mike Baker', 'DAPS_assignment': 5, 'reviewer': 'Miguel'}, {'name': 'Andrew Armstrong', 'DAPS_assignment': 1, 'reviewer': 'Laura'}, {'name': 'Nick Adams', 'DAPS_assignment': 3, 'reviewer': 'Laura'}, {'name': 'Nick Turner', 'DAPS_assignment': 1, 'reviewer': 'Laura'}, {'name': 'Andrew Peterson', 'DAPS_assignment': 3, 'reviewer': 'Miguel'}, {'name': 'Alex Palmer', 'DAPS_assignment': 2, 'reviewer': 'Laura'}, {'name': 'Paul Armstrong', 'DAPS_assignment': 3, 'reviewer': 'Miguel'}, {'name': 'Nick Turner', 'DAPS_assignment': 9, 'reviewer': 'Laura'}, {'name': 'Andrew Baker', 'DAPS_assignment': 1, 'reviewer': 'Laura'}, {'name': 'George Turner', 'DAPS_assignment': 1, 'reviewer': 'Miguel'}, {'name': 'George Adams', 'DAPS_assignment': 7, 'reviewer': 'Laura'}, {'name': 'Ellie Roberts', 'DAPS_assignment': 4, 'reviewer': 'Laura'}, {'name': 'Natalia Turner', 'DAPS_assignment': 4, 'reviewer': 'Laura'}, {'name': 'Andrew Roberts', 'DAPS_assignment': 7, 'reviewer': 'Miguel'}, {'name': 'Mike Palmer', 'DAPS_assignment': 3, 'reviewer': 'Laura'}, {'name': 'Ellie Armstrong', 'DAPS_assignment': 4, 'reviewer': 'Miguel'}, {'name': 'George Baker', 'DAPS_assignment': 3, 'reviewer': 'Laura'}, {'name': 'Natalia Peterson', 'DAPS_assignment': 8, 'reviewer': 'Miguel'}, {'name': 'Ellie Adams', 'DAPS_assignment': 9, 'reviewer': 'Laura'}, {'name': 'Andrew Adams', 'DAPS_assignment': 8, 'reviewer': 'Laura'}, {'name': 'Ellie Turner', 'DAPS_assignment': 1, 'reviewer': 'Laura'}, {'name': 'Andrew Adams', 'DAPS_assignment': 7, 'reviewer': 'Miguel'}, {'name': 'Natalia Peterson', 'DAPS_assignment': 3, 'reviewer': 'Miguel'}, {'name': 'Anna Baker', 'DAPS_assignment': 2, 'reviewer': 'Laura'}, {'name': 'Paul Roberts', 'DAPS_assignment': 4, 'reviewer': 'Miguel'}, {'name': 'Maria Armstrong', 'DAPS_assignment': 10, 'reviewer': 'Miguel'}, {'name': 'Andrew Roberts', 'DAPS_assignment': 7, 'reviewer': 'Laura'}, {'name': 'Andrew Baker', 'DAPS_assignment': 4, 'reviewer': 'Laura'}]\n"
     ]
    }
   ],
   "source": [
    "names = ['Anna','Maria','George', 'Mike', 'Alex','Paul','Nick', 'Andrew','Ellie', 'Natalia']\n",
    "surname = ['Adams', 'Baker', 'Palmer', 'Peterson', 'Roberts', 'Turner', 'Armstrong']\n",
    "reviewer = ['Laura','Miguel']\n",
    "student=[]\n",
    "for i in range(1, 30):\n",
    "    student.append({\n",
    "        'name' : names[randint(0, (len(names)-1))] + ' '  + surname[randint(0, (len(surname)-1))],\n",
    "        'DAPS_assignment' : randint(1, 10),\n",
    "        'reviewer':  reviewer[randint(0, (len(reviewer)-1))] })\n",
    "print(student)"
   ]
  },
  {
   "cell_type": "markdown",
   "metadata": {
    "id": "D_GisBsPa7R_"
   },
   "source": [
    "\n",
    "\n",
    "**_[TO DO]_**: Upload this database using `insert_one` or `insert_many` command.\n"
   ]
  },
  {
   "cell_type": "code",
   "execution_count": 17,
   "metadata": {
    "id": "Fy7pnMz3gUxL"
   },
   "outputs": [],
   "source": [
    "# Create a database object called “students”\n",
    "db = client.students"
   ]
  },
  {
   "cell_type": "code",
   "execution_count": 27,
   "metadata": {
    "id": "hMZf2aDDi7tC"
   },
   "outputs": [
    {
     "name": "stderr",
     "output_type": "stream",
     "text": [
      "c:\\users\\11597\\appdata\\local\\programs\\python\\python37\\lib\\site-packages\\ipykernel_launcher.py:9: DeprecationWarning: insert is deprecated. Use insert_one or insert_many instead.\n",
      "  if __name__ == '__main__':\n",
      "c:\\users\\11597\\appdata\\local\\programs\\python\\python37\\lib\\site-packages\\ipykernel_launcher.py:10: DeprecationWarning: insert is deprecated. Use insert_one or insert_many instead.\n",
      "  # Remove the CWD from sys.path while we load stuff.\n"
     ]
    },
    {
     "data": {
      "text/plain": [
       "[ObjectId('61806ce95e19aa6c276a7bc6'),\n",
       " ObjectId('61806ce95e19aa6c276a7bc7'),\n",
       " ObjectId('61806ce95e19aa6c276a7bc8'),\n",
       " ObjectId('61806ce95e19aa6c276a7bc9'),\n",
       " ObjectId('61806ce95e19aa6c276a7bca'),\n",
       " ObjectId('61806ce95e19aa6c276a7bcb'),\n",
       " ObjectId('61806ce95e19aa6c276a7bcc'),\n",
       " ObjectId('61806ce95e19aa6c276a7bcd'),\n",
       " ObjectId('61806ce95e19aa6c276a7bce'),\n",
       " ObjectId('61806ce95e19aa6c276a7bcf'),\n",
       " ObjectId('61806ce95e19aa6c276a7bd0'),\n",
       " ObjectId('61806ce95e19aa6c276a7bd1'),\n",
       " ObjectId('61806ce95e19aa6c276a7bd2'),\n",
       " ObjectId('61806ce95e19aa6c276a7bd3'),\n",
       " ObjectId('61806ce95e19aa6c276a7bd4'),\n",
       " ObjectId('61806ce95e19aa6c276a7bd5'),\n",
       " ObjectId('61806ce95e19aa6c276a7bd6'),\n",
       " ObjectId('61806ce95e19aa6c276a7bd7'),\n",
       " ObjectId('61806ce95e19aa6c276a7bd8'),\n",
       " ObjectId('61806ce95e19aa6c276a7bd9'),\n",
       " ObjectId('61806ce95e19aa6c276a7bda'),\n",
       " ObjectId('61806ce95e19aa6c276a7bdb'),\n",
       " ObjectId('61806ce95e19aa6c276a7bdc'),\n",
       " ObjectId('61806ce95e19aa6c276a7bdd'),\n",
       " ObjectId('61806ce95e19aa6c276a7bde'),\n",
       " ObjectId('61806ce95e19aa6c276a7bdf'),\n",
       " ObjectId('61806ce95e19aa6c276a7be0'),\n",
       " ObjectId('61806ce95e19aa6c276a7be1')]"
      ]
     },
     "execution_count": 27,
     "metadata": {},
     "output_type": "execute_result"
    }
   ],
   "source": [
    "###########################\n",
    "# Task: \n",
    "#   upload this database using insert_one or insert_many command\n",
    "#\n",
    "###########################\n",
    "\n",
    "### TO DO\n",
    "col=db.students\n",
    "col.insert({'name': 'Mike Roberts', 'DAPS_assignment': 1, 'reviewer': 'Laura'})\n",
    "col.insert(student[1:])\n",
    "#########"
   ]
  },
  {
   "cell_type": "markdown",
   "metadata": {
    "id": "ACbLHpq0MuxJ"
   },
   "source": [
    "## 2.3 - Query a document\n",
    "\n",
    "\n",
    "**_[TO DO]_** : Find one student with score of 5. You can use the command `find_one`.\n",
    "\n"
   ]
  },
  {
   "cell_type": "code",
   "execution_count": 39,
   "metadata": {
    "id": "5568ROVpjbbc"
   },
   "outputs": [
    {
     "data": {
      "text/plain": [
       "{'_id': ObjectId('61806ce95e19aa6c276a7bc6'),\n",
       " 'name': 'Mike Baker',\n",
       " 'DAPS_assignment': 5,\n",
       " 'reviewer': 'Miguel'}"
      ]
     },
     "execution_count": 39,
     "metadata": {},
     "output_type": "execute_result"
    }
   ],
   "source": [
    "###########################\n",
    "# Task: \n",
    "#   find one student with final DAPS_assignment score equal 5\n",
    "#\n",
    "###########################\n",
    "\n",
    "\n",
    "### TO DO\n",
    "col.find_one({'DAPS_assignment': 5})\n",
    "\n",
    "\n",
    "#########"
   ]
  },
  {
   "cell_type": "markdown",
   "metadata": {
    "id": "N-YouR9Djwo3"
   },
   "source": [
    "\n",
    "**_[TO DO]_** : Query the database to find the total number of students with score 8 and 3? You can use `aggregation` or `find` command.\n"
   ]
  },
  {
   "cell_type": "code",
   "execution_count": 32,
   "metadata": {
    "id": "Y_py_6fykWdB"
   },
   "outputs": [
    {
     "name": "stderr",
     "output_type": "stream",
     "text": [
      "c:\\users\\11597\\appdata\\local\\programs\\python\\python37\\lib\\site-packages\\ipykernel_launcher.py:9: DeprecationWarning: count is deprecated. Use Collection.count_documents instead.\n",
      "  if __name__ == '__main__':\n"
     ]
    },
    {
     "data": {
      "text/plain": [
       "8"
      ]
     },
     "execution_count": 32,
     "metadata": {},
     "output_type": "execute_result"
    }
   ],
   "source": [
    "###########################\n",
    "# Task: \n",
    "#   Count the total students with final DAPS_assignment score equal to 3 and 8.\n",
    "#\n",
    "###########################\n",
    "\n",
    "\n",
    "### TO DO\n",
    "col.find({'DAPS_assignment': {\"$in\": [3,8]}}).count()\n",
    "\n",
    "\n",
    "#########"
   ]
  },
  {
   "cell_type": "markdown",
   "metadata": {
    "id": "xIUZ5CKbYBAH"
   },
   "source": [
    " Dr. Laura Toni is happy today and she is going to pass all students with final score 4.\n",
    " \n",
    "**_[TO DO]_** : Change the score on all the students with final mark 4 to 5. You can use one of the following commands: `update_one`, `update_many` and `replace_one`."
   ]
  },
  {
   "cell_type": "code",
   "execution_count": 38,
   "metadata": {
    "id": "jZa9wDMwmKCN"
   },
   "outputs": [
    {
     "data": {
      "text/plain": [
       "<pymongo.results.UpdateResult at 0x1999b2e4348>"
      ]
     },
     "execution_count": 38,
     "metadata": {},
     "output_type": "execute_result"
    }
   ],
   "source": [
    "###########################\n",
    "# Task: \n",
    "#   Adjust the score on all the students with final mark 4 to 5.\n",
    "#\n",
    "###########################\n",
    "\n",
    "\n",
    "### TO DO\n",
    "col.update_many({'DAPS_assignment': 4},{'$inc':{'DAPS_assignment': 5}})\n",
    "\n",
    "#########"
   ]
  },
  {
   "cell_type": "markdown",
   "metadata": {
    "id": "RkhWS8UTNzN6"
   },
   "source": [
    "That was an unfair move!\n",
    "\n",
    "**_[TO DO]_** : Let's delete all the documents that Dr. Laura Toni marked!"
   ]
  },
  {
   "cell_type": "code",
   "execution_count": 44,
   "metadata": {
    "id": "33_3Nkyyq0TW"
   },
   "outputs": [
    {
     "name": "stderr",
     "output_type": "stream",
     "text": [
      "c:\\users\\11597\\appdata\\local\\programs\\python\\python37\\lib\\site-packages\\ipykernel_launcher.py:9: DeprecationWarning: remove is deprecated. Use delete_one or delete_many instead.\n",
      "  if __name__ == '__main__':\n"
     ]
    },
    {
     "data": {
      "text/plain": [
       "{'n': 0,\n",
       " 'opTime': {'ts': Timestamp(1635807863, 323), 't': 67},\n",
       " 'electionId': ObjectId('7fffffff0000000000000043'),\n",
       " 'ok': 1.0,\n",
       " '$clusterTime': {'clusterTime': Timestamp(1635807863, 323),\n",
       "  'signature': {'hash': b'\\x8e|\\xe2\\xef\\x95\\xb4\\x81\\xb5\\x99\\xb3%\\x88\\x7f\\xea\\\\yp\\xb3\\xaa\\xcc',\n",
       "   'keyId': 6985604577110261768}},\n",
       " 'operationTime': Timestamp(1635807863, 323)}"
      ]
     },
     "execution_count": 44,
     "metadata": {},
     "output_type": "execute_result"
    }
   ],
   "source": [
    "###########################\n",
    "# Task: \n",
    "#   Delete all documents with `reviewer:Laura`.\n",
    "#\n",
    "###########################\n",
    "\n",
    "\n",
    "### TO DO\n",
    "col.remove({'reviewer': 'Laura'})\n",
    "#########"
   ]
  },
  {
   "cell_type": "markdown",
   "metadata": {
    "id": "Thelgo7FiULB"
   },
   "source": [
    "GOOD JOB! You finished the tasks!\n",
    "\n",
    "\n",
    "You might be asking yourself now: Why and when a non-elational database is useful? MongoDB allows storing data in documents. This is very useful when you have a lot of many-to-many relationships. Other advantages include:\n",
    "- it enables the fast development of applications, \n",
    "- it supports highly diverse data types, \n",
    "- and allows efficient interations with applications at scale.\n",
    "Read more here: https://www.mongodb.com/compare/mongodb-mysql \n",
    "\n",
    "\n",
    "You can learn more about developing MongoDB-based applications here:\n",
    "- https://university.mongodb.com/courses/M121/about?jmp=M101Pap\n",
    "- https://university.mongodb.com/courses/M220P/about?jmp=M101Pap\n",
    "- https://university.mongodb.com/courses/M320/about?jmp=M101Pap"
   ]
  }
 ],
 "metadata": {
  "colab": {
   "collapsed_sections": [],
   "name": "LAB3.ipynb",
   "provenance": []
  },
  "kernelspec": {
   "display_name": "Python 3",
   "language": "python",
   "name": "python3"
  },
  "language_info": {
   "codemirror_mode": {
    "name": "ipython",
    "version": 3
   },
   "file_extension": ".py",
   "mimetype": "text/x-python",
   "name": "python",
   "nbconvert_exporter": "python",
   "pygments_lexer": "ipython3",
   "version": "3.7.0"
  }
 },
 "nbformat": 4,
 "nbformat_minor": 1
}
